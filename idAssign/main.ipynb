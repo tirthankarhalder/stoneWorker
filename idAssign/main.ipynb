{
 "cells": [
  {
   "cell_type": "code",
   "execution_count": 37,
   "id": "8ce0bf0b",
   "metadata": {},
   "outputs": [
    {
     "name": "stderr",
     "output_type": "stream",
     "text": [
      "/tmp/ipykernel_1324001/3689762366.py:12: MatplotlibDeprecationWarning: The get_cmap function was deprecated in Matplotlib 3.7 and will be removed in 3.11. Use ``matplotlib.colormaps[name]`` or ``matplotlib.colormaps.get_cmap()`` or ``pyplot.get_cmap()`` instead.\n",
      "  cmap = cm.get_cmap(\"tab20\", 20)\n"
     ]
    },
    {
     "data": {
      "image/png": "[encoded data removed]",
      "text/plain": [
       "<Figure size 1000x600 with 1 Axes>"
      ]
     },
     "metadata": {},
     "output_type": "display_data"
    }
   ],
   "source": [
    "import pandas as pd\n",
    "from datetime import datetime, timedelta\n",
    "import numpy as np\n",
    "import seaborn as sns\n",
    "import matplotlib.pyplot as plt\n",
    "from sklearn.cluster import DBSCAN\n",
    "from matplotlib import cm\n",
    "from scipy.optimize import linear_sum_assignment\n",
    "from scipy.stats import mode\n",
    "from collections import defaultdict, Counter\n",
    "from denoiser import *\n",
    "cmap = cm.get_cmap(\"tab20\", 20)\n",
    "\n",
    "fig = plt.figure(figsize=(10, 6))\n",
    "ax1 = fig.add_subplot(111)"
   ]
  },
  {
   "cell_type": "code",
   "execution_count": 2,
   "id": "75a6ba8e",
   "metadata": {},
   "outputs": [],
   "source": [
    "radar1 = pd.read_pickle('radar1_s1.pkl')\n",
    "radar2 = pd.read_pickle('radar2_s1.pkl')"
   ]
  },
  {
   "cell_type": "code",
   "execution_count": 3,
   "id": "0bf55396-91a6-4c7b-919a-cc84b495e220",
   "metadata": {},
   "outputs": [],
   "source": [
    "def handle_timesync(df):\n",
    "    df['datetime'] = df['datetime'].apply(lambda x: pd.to_datetime(x))\n",
    "    df = df[df.datetime != df['datetime'][0]][df.datetime != df['datetime'][len(df['datetime'])-1]]\n",
    "    unique_timestamps, counts =  np.unique(df['datetime'], return_counts=True)\n",
    "    timestamps = []\n",
    "    delete_row_idx = []\n",
    "    row_idx = 0\n",
    "    for unique_timestamp, count in zip (unique_timestamps, counts):\n",
    "        row_idx +=count\n",
    "        if count > 5:\n",
    "            print(f'deleting {row_idx}')\n",
    "            delete_row_idx.append(row_idx)\n",
    "            count = 5\n",
    "        for dele in np.arange(count):\n",
    "            timestamps.append(pd.to_datetime(unique_timestamp)+(timedelta(milliseconds=200)*dele))\n",
    "    df = df.drop(df.index[delete_row_idx])\n",
    "    df['datetime'] = timestamps\n",
    "    return df"
   ]
  },
  {
   "cell_type": "code",
   "execution_count": 4,
   "id": "4734adf6-2e84-43f7-a1f4-db4ce78219c8",
   "metadata": {},
   "outputs": [
    {
     "name": "stdout",
     "output_type": "stream",
     "text": [
      "deleting 109\n",
      "deleting 119\n",
      "deleting 144\n",
      "deleting 244\n",
      "deleting 254\n"
     ]
    },
    {
     "name": "stderr",
     "output_type": "stream",
     "text": [
      "/tmp/ipykernel_1324001/2502313886.py:3: UserWarning: Boolean Series key will be reindexed to match DataFrame index.\n",
      "  df = df[df.datetime != df['datetime'][0]][df.datetime != df['datetime'][len(df['datetime'])-1]]\n",
      "/tmp/ipykernel_1324001/2502313886.py:3: UserWarning: Boolean Series key will be reindexed to match DataFrame index.\n",
      "  df = df[df.datetime != df['datetime'][0]][df.datetime != df['datetime'][len(df['datetime'])-1]]\n"
     ]
    }
   ],
   "source": [
    "radar1 = handle_timesync(radar1)\n",
    "radar2 = handle_timesync(radar2)"
   ]
  },
  {
   "cell_type": "code",
   "execution_count": 5,
   "id": "9f7cb092",
   "metadata": {},
   "outputs": [],
   "source": [
    "radar1.columns = [\n",
    "    f\"radar1_{col}\" if col != \"datetime\" else col\n",
    "    for col in radar1.columns\n",
    "]\n",
    "radar2.columns = [\n",
    "    f\"radar2_{col}\" if col != \"datetime\" else col\n",
    "    for col in radar2.columns\n",
    "]"
   ]
  },
  {
   "cell_type": "code",
   "execution_count": 6,
   "id": "7e2ed9df-4e9b-4f70-b023-0a3246668a5c",
   "metadata": {},
   "outputs": [
    {
     "data": {
      "text/plain": [
       "2     2025-05-19 21:31:33.000\n",
       "3     2025-05-19 21:31:33.200\n",
       "4     2025-05-19 21:31:33.400\n",
       "5     2025-05-19 21:31:33.600\n",
       "6     2025-05-19 21:31:33.800\n",
       "                ...          \n",
       "181   2025-05-19 21:32:25.000\n",
       "182   2025-05-19 21:32:25.200\n",
       "183   2025-05-19 21:32:25.400\n",
       "184   2025-05-19 21:32:25.600\n",
       "185   2025-05-19 21:32:25.800\n",
       "Name: datetime, Length: 259, dtype: datetime64[ns]"
      ]
     },
     "execution_count": 6,
     "metadata": {},
     "output_type": "execute_result"
    }
   ],
   "source": [
    "radar2['datetime']"
   ]
  },
  {
   "cell_type": "code",
   "execution_count": 7,
   "id": "1e8de8d4",
   "metadata": {},
   "outputs": [],
   "source": [
    "mergedRadarData =pd.merge_asof(radar1,radar2, on=\"datetime\", direction=\"nearest\")\n",
    "mergedRadarData = mergedRadarData.dropna()"
   ]
  },
  {
   "cell_type": "code",
   "execution_count": 8,
   "id": "85637eab-ef26-4292-b9bb-9e6ea4853c00",
   "metadata": {},
   "outputs": [
    {
     "data": {
      "text/plain": [
       "Index(['radar1_datenow', 'radar1_timenow', 'radar1_rangeIdx',\n",
       "       'radar1_dopplerIdx', 'radar1_numDetectedObj', 'radar1_x_coord',\n",
       "       'radar1_y_coord', 'radar1_z_coord', 'radar1_rp_y', 'radar1_noiserp_y',\n",
       "       'radar1_doppz', 'radar1_interFrameProcessingTime',\n",
       "       'radar1_interFrameProcessingMargin',\n",
       "       'radar1_interChirpProcessingMargin', 'radar1_transmitOutputTime',\n",
       "       'radar1_activeFrameCPULoad', 'radar1_interFrameCPULoad', 'radar1_snrDB',\n",
       "       'radar1_noiseDB', 'radar1_activity', 'datetime', 'radar2_datenow',\n",
       "       'radar2_timenow', 'radar2_rangeIdx', 'radar2_dopplerIdx',\n",
       "       'radar2_numDetectedObj', 'radar2_x_coord', 'radar2_y_coord',\n",
       "       'radar2_z_coord', 'radar2_rp_y', 'radar2_noiserp_y', 'radar2_doppz',\n",
       "       'radar2_interFrameProcessingTime', 'radar2_interFrameProcessingMargin',\n",
       "       'radar2_interChirpProcessingMargin', 'radar2_transmitOutputTime',\n",
       "       'radar2_activeFrameCPULoad', 'radar2_interFrameCPULoad', 'radar2_snrDB',\n",
       "       'radar2_noiseDB', 'radar2_activity'],\n",
       "      dtype='object')"
      ]
     },
     "execution_count": 8,
     "metadata": {},
     "output_type": "execute_result"
    }
   ],
   "source": [
    "mergedRadarData.columns"
   ]
  },
  {
   "cell_type": "code",
   "execution_count": 28,
   "id": "93a771dd-536e-4cd2-92fe-9b4743be2d20",
   "metadata": {},
   "outputs": [],
   "source": [
    "x_pcd = [e for elm in mergedRadarData['radar1_x_coord'][0:10] for e in elm]\n",
    "y_pcd = [e for elm in mergedRadarData['radar1_y_coord'][0:10] for e in elm]\n",
    "dop_pcd = [e for elm in mergedRadarData['radar1_dopplerIdx'][0:10] for e in elm]\n",
    "# peakVal = [e for elm in mergedRadarData['radar1_rp_y'][0:30] for e in elm]\n",
    "\n",
    "points = np.concatenate((np.array(x_pcd).reshape(-1,1),np.array(y_pcd).reshape(-1,1), np.array(dop_pcd).reshape(-1,1)), axis=1)\n",
    "points = points[points[:,2]!=0]\n"
   ]
  },
  {
   "cell_type": "code",
   "execution_count": 29,
   "id": "a4dfd591",
   "metadata": {},
   "outputs": [
    {
     "data": {
      "text/plain": [
       "33"
      ]
     },
     "execution_count": 29,
     "metadata": {},
     "output_type": "execute_result"
    }
   ],
   "source": [
    "len(points)"
   ]
  },
  {
   "cell_type": "code",
   "execution_count": 34,
   "id": "dfc0196f",
   "metadata": {},
   "outputs": [],
   "source": [
    "denoiser = DeNoising(qsize=2, order=2, fs=5.0, cutoff=0.3, offset=5)\n"
   ]
  },
  {
   "cell_type": "code",
   "execution_count": 46,
   "id": "924f3eb0",
   "metadata": {},
   "outputs": [
    {
     "data": {
      "text/plain": [
       "33"
      ]
     },
     "execution_count": 46,
     "metadata": {},
     "output_type": "execute_result"
    }
   ],
   "source": [
    "# for i in range(mergedRadarData['radar1_numDetectedObj'][0:5].sum()):\n",
    "point = []\n",
    "for i in range(len(points)):\n",
    "    stat =  denoiser.process(points[:,0][i], points[:,1][i],points[:,2][i]) \n",
    "    # print(f\"stat {i} : {stat}\")\n",
    "    if stat.isSkipped() or stat.isSync():\n",
    "        pass\n",
    "    elif stat.isAvailable():\n",
    "        point.append(np.array([float(stat.x),float(stat.y),float(points[:,2][i])]))\n",
    "        # print(f\"stat {i} : {stat.x},{stat.y}\")\n",
    "len(point)"
   ]
  },
  {
   "cell_type": "code",
   "execution_count": 48,
   "id": "0056194a",
   "metadata": {},
   "outputs": [
    {
     "data": {
      "text/plain": [
       "array([ 0.17468979,  0.84140426, -8.        ])"
      ]
     },
     "execution_count": 48,
     "metadata": {},
     "output_type": "execute_result"
    }
   ],
   "source": [
    "point[-1]"
   ]
  },
  {
   "cell_type": "code",
   "execution_count": 41,
   "id": "6eeeed07",
   "metadata": {},
   "outputs": [
    {
     "data": {
      "text/plain": [
       "numpy.float64"
      ]
     },
     "execution_count": 41,
     "metadata": {},
     "output_type": "execute_result"
    }
   ],
   "source": [
    "type(point[-1][0])"
   ]
  },
  {
   "cell_type": "code",
   "execution_count": 38,
   "id": "561c3c2f",
   "metadata": {},
   "outputs": [],
   "source": [
    "\n",
    "def calculate_centroids(data, labels):\n",
    "    unique_labels = np.unique(labels)\n",
    "    centroids = []\n",
    "\n",
    "    for label in unique_labels:\n",
    "        cluster_points = data[labels == label]\n",
    "        print(f\"for {label} no of points: {len(cluster_points)}\")\n",
    "        centroid = np.mean(cluster_points, axis=0)\n",
    "        centroids.append((label, centroid))\n",
    "    return centroids\n",
    "\n",
    "\n",
    "def find_closest_centroid_hungarian(previous_centroids, current_centroids, id_mapping, next_id, frame_counts, frame_threshold=5, distance_threshold=0.5):\n",
    "    if not previous_centroids:\n",
    "        # Initialize all centroids with new IDs\n",
    "        new_centroids = []\n",
    "        for _, curr_centroid in current_centroids:\n",
    "            centroid_id = next_id\n",
    "            id_mapping[tuple(curr_centroid)] = centroid_id\n",
    "            frame_counts[centroid_id] = 1\n",
    "            next_id += 1\n",
    "            new_centroids.append((centroid_id, curr_centroid))\n",
    "        valid_centroids = [(cid, c) for cid, c in new_centroids if frame_counts[cid] >= frame_threshold]\n",
    "        return valid_centroids, next_id\n",
    "\n",
    "    prev_points = np.array([c[1] for c in previous_centroids])\n",
    "    curr_points = np.array([c[1] for c in current_centroids])\n",
    "    distance_matrix = np.linalg.norm(prev_points[:, None, :] - curr_points[None, :, :], axis=2)\n",
    "\n",
    "    row_ind, col_ind = linear_sum_assignment(distance_matrix)\n",
    "    \n",
    "    assigned = set()\n",
    "    new_centroids = []\n",
    "\n",
    "    for i, j in zip(row_ind, col_ind):\n",
    "        if distance_matrix[i, j] < distance_threshold:\n",
    "            prev_id = previous_centroids[i][0]\n",
    "            curr_centroid = current_centroids[j][1]\n",
    "            centroid_id = prev_id\n",
    "            frame_counts[centroid_id] = frame_counts.get(centroid_id, 0) + 1\n",
    "            new_centroids.append((centroid_id, curr_centroid))\n",
    "            assigned.add(j)\n",
    "\n",
    "    # Handle new centroids that weren't matched\n",
    "    for idx, (_, curr_centroid) in enumerate(current_centroids):\n",
    "        if idx not in assigned:\n",
    "            centroid_id = next_id\n",
    "            frame_counts[centroid_id] = 1\n",
    "            new_centroids.append((centroid_id, curr_centroid))\n",
    "            next_id += 1\n",
    "\n",
    "    valid_centroids = [(cid, c) for cid, c in new_centroids if frame_counts[cid] >= frame_threshold]\n",
    "    return valid_centroids, next_id\n",
    "\n",
    "def update_tracks(current_centroids, tracks, next_id, distance_threshold=0.5, frame_threshold=5, max_missed=10):\n",
    "    matched_indices = set()\n",
    "    new_tracks = []\n",
    "\n",
    "    if len(tracks) > 0 and len(current_centroids) > 0:\n",
    "        track_centroids = np.array([track['centroid'] for track in tracks])\n",
    "        current_points = np.array([c[1] for c in current_centroids])\n",
    "        distance_matrix = np.linalg.norm(track_centroids[:, None, :] - current_points[None, :, :], axis=2)\n",
    "        row_ind, col_ind = linear_sum_assignment(distance_matrix)\n",
    "\n",
    "        # Update matched tracks\n",
    "        for r, c in zip(row_ind, col_ind):\n",
    "            if distance_matrix[r, c] < distance_threshold:\n",
    "                tracks[r]['centroid'] = current_points[c]\n",
    "                tracks[r]['missed_frames'] = 0\n",
    "                tracks[r]['frame_count'] += 1\n",
    "                new_tracks.append(tracks[r])\n",
    "                matched_indices.add(c)\n",
    "            else:\n",
    "                # If too far, keep old track and create new for unmatched\n",
    "                tracks[r]['missed_frames'] += 1\n",
    "                if tracks[r]['missed_frames'] <= max_missed:\n",
    "                    new_tracks.append(tracks[r])\n",
    "\n",
    "    # Add unmatched existing tracks\n",
    "    for i, track in enumerate(tracks):\n",
    "        if i not in row_ind:\n",
    "            track['missed_frames'] += 1\n",
    "            if track['missed_frames'] <= max_missed:\n",
    "                new_tracks.append(track)\n",
    "\n",
    "    # Add new tracks for unmatched current centroids\n",
    "    for i, (_, centroid) in enumerate(current_centroids):\n",
    "        if i not in matched_indices:\n",
    "            new_tracks.append({\n",
    "                'id': next_id,\n",
    "                'centroid': centroid,\n",
    "                'missed_frames': 0,\n",
    "                'frame_count': 1\n",
    "            })\n",
    "            next_id += 1\n",
    "\n",
    "    # Filter tracks by frame count threshold\n",
    "    valid_tracks = [(track['id'], track['centroid']) for track in new_tracks if track['frame_count'] >= frame_threshold]\n",
    "    return valid_tracks, new_tracks, next_id\n",
    "    \n",
    "def find_closest_centroid(previous_centroids, current_centroids, id_mapping, next_id, frame_counts, frame_threshold=20):\n",
    "    new_centroids = []\n",
    "    for curr_label, curr_centroid in current_centroids:\n",
    "        min_distance = float('inf')\n",
    "        closest_centroid = None\n",
    "        closest_prev_label = None\n",
    "\n",
    "        for prev_label, prev_centroid in previous_centroids:\n",
    "            distance = np.linalg.norm(curr_centroid - prev_centroid)\n",
    "            if distance < min_distance:\n",
    "                min_distance = distance\n",
    "                closest_centroid = curr_centroid\n",
    "                closest_prev_label = prev_label\n",
    "\n",
    "        if closest_prev_label is not None and min_distance < 0.4:  # Threshold distance\n",
    "            # Use existing ID if close to a previous centroid, initializing if necessary\n",
    "            centroid_id = id_mapping.get(closest_prev_label, next_id)\n",
    "            if closest_prev_label not in id_mapping:\n",
    "                id_mapping[closest_prev_label] = centroid_id\n",
    "                frame_counts[centroid_id] = 0  # Initialize frame count if first occurrence\n",
    "            frame_counts[centroid_id] += 1  # Increment frame count\n",
    "        else:\n",
    "            # Assign a new ID if no close match found\n",
    "            centroid_id = next_id\n",
    "            id_mapping[curr_label] = centroid_id\n",
    "            frame_counts[centroid_id] = 1  # Initialize frame count\n",
    "            next_id += 1\n",
    "\n",
    "        # Store the ID in the mapping and in the new_centroids list\n",
    "        new_centroids.append((centroid_id, curr_centroid))\n",
    "\n",
    "    # Filter centroids based on frame threshold\n",
    "    valid_centroids = [(cid, c) for cid, c in new_centroids if frame_counts[cid] >= frame_threshold]\n",
    "    return valid_centroids, next_id\n",
    "\n",
    "def update(frame_data):\n",
    "    ax1.cla()\n",
    "    points, valid_centroids = frame_data\n",
    "    for centroid_id, centroid in valid_centroids:\n",
    "            color = cmap(centroid_id % 20)  \n",
    "            ax1.scatter(centroid[0], centroid[1], marker='o', s=100, color=color, label=f'Cluster ID {centroid_id}')\n",
    "    ax1.scatter(points[:,0], points[:,1], c='blue', marker='o', s=10)\n",
    "    ax1.set_title(\"3D Pointcloud\")\n",
    "    ax1.set_xlabel('X')\n",
    "    ax1.set_ylabel('Y')\n",
    "    ax1.set_xlim(-5,5)\n",
    "    ax1.set_ylim(0,10)\n",
    "    plt.legend()\n",
    "    return ax1,\n"
   ]
  },
  {
   "cell_type": "code",
   "execution_count": null,
   "id": "27e5929d-ce9b-4b44-9773-e1e9debcefc6",
   "metadata": {},
   "outputs": [],
   "source": [
    "previous_centroids = []\n",
    "id_mapping = {}\n",
    "frame_counts = {}\n",
    "next_id = 0\n",
    "frames = 5\n",
    "for index, row in mergedRadarData.iterrows():\n",
    "    if index >= len(mergedRadarData) - frames:\n",
    "        break\n",
    "\n",
    "    # mergedRadarData['radar1_doppler']\n",
    "    print('index:', index)\n",
    "    fig = plt.figure(figsize=(12, 6))\n",
    "    x_pcd = [e for elm in mergedRadarData['radar1_x_coord'][index:index + frames] for e in elm]\n",
    "    y_pcd = [e for elm in mergedRadarData['radar1_y_coord'][index:index + frames] for e in elm]\n",
    "    dop_pcd = [e for elm in mergedRadarData['radar1_dopplerIdx'][index:index + frames] for e in elm]\n",
    "    \n",
    "    points = np.concatenate((np.array(x_pcd).reshape(-1,1),np.array(y_pcd).reshape(-1,1), np.array(dop_pcd).reshape(-1,1)), axis=1)\n",
    "    # points = points[points[:,2]!=0]\n",
    "    img1 = plt.scatter(points[:,0], points[:,1], marker='o',s=4)\n",
    "\n",
    "    clustering = DBSCAN(eps=0.001, min_samples=5).fit(points[:,:2])\n",
    "    cluster_labels = np.array(clustering.labels_)\n",
    "    current_centroids = calculate_centroids(points[:,:2], cluster_labels)\n",
    "\n",
    "    valid_centroids, next_id = find_closest_centroid(previous_centroids, current_centroids, id_mapping, next_id, frame_counts, frame_threshold=10)\n",
    "    previous_centroids = current_centroids  \n",
    "    print('valid_centroids:', valid_centroids)\n",
    "\n",
    "    for centroid_id, centroid in valid_centroids:\n",
    "        color = cmap(centroid_id % 20)  \n",
    "        plt.scatter(centroid[0], centroid[1], marker='o', s=100, color=color, label=f'Cluster ID {centroid_id}')\n",
    "\n",
    "\n",
    "    plt.title('Radar_1 PCD')\n",
    "    plt.xlabel('X')\n",
    "    plt.ylabel('Y')\n",
    "    plt.xlim(-10, 10)\n",
    "    plt.ylim(0, 10)\n",
    "    plt.legend()\n",
    "    plt.tight_layout()\n",
    "    # plt.show()\n",
    "    plt.savefig(f\"visualization/test_{str(index)}.png\")\n",
    "    plt.close()\n",
    "\n",
    "    # if index==100:\n",
    "    #     break\n",
    "    \n",
    "    "
   ]
  },
  {
   "cell_type": "code",
   "execution_count": null,
   "id": "d0672815",
   "metadata": {},
   "outputs": [],
   "source": []
  }
 ],
 "metadata": {
  "kernelspec": {
   "display_name": "stone",
   "language": "python",
   "name": "python3"
  },
  "language_info": {
   "codemirror_mode": {
    "name": "ipython",
    "version": 3
   },
   "file_extension": ".py",
   "mimetype": "text/x-python",
   "name": "python",
   "nbconvert_exporter": "python",
   "pygments_lexer": "ipython3",
   "version": "3.10.16"
  }
 },
 "nbformat": 4,
 "nbformat_minor": 5
}
